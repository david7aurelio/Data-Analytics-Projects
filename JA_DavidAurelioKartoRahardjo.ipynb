{
 "cells": [
  {
   "cell_type": "code",
   "execution_count": 1,
   "source": [
    "import pandas as pd"
   ],
   "outputs": [],
   "metadata": {}
  },
  {
   "cell_type": "markdown",
   "source": [
    "# Question 1: Python Programming (10 marks)"
   ],
   "metadata": {
    "id": "CRSkpmuFROhI"
   }
  },
  {
   "cell_type": "markdown",
   "source": [
    "#### 1a) Most common characters (5 marks)"
   ],
   "metadata": {
    "id": "pA4vayZo0V1q"
   }
  },
  {
   "cell_type": "markdown",
   "source": [
    "Given a string s, your task is to find the 5 most common characters and their occurence counts.\n",
    "\n",
    "*   Sort in order of descending occurence counts\n",
    "*   For characters with the same occurence counts, sort alphabetically\n",
    "*   Return the output as a dictionary\n",
    "*   Note: Only consider letters in the alphabet. The same letter in lower or uppercase are counted as the same character (standardise to lowercase)\n",
    "\n",
    "<u>Example</u> <br>\n",
    "Input: 'hippopotamus' <br>\n",
    "Output: {'p': 3, 'o': 2, 'a': 1, 'h': 1, 'i': 1}"
   ],
   "metadata": {
    "id": "MKW37irJ0a88"
   },
   "attachments": {}
  },
  {
   "cell_type": "code",
   "execution_count": 2,
   "source": [
    "def qn_1a(s):\n",
    "    word = s.lower()\n",
    "    dictionary = {}\n",
    "    while len(word) > 0:\n",
    "        count = 0\n",
    "        for i in range(len(word)):\n",
    "            if word[i] == word[0]:\n",
    "                count += 1\n",
    "        dictionary[word[0]] = count\n",
    "        word = word.replace(word[0], '')\n",
    "    dictionary_alphabetical_order = dict(sorted(dictionary.items()))\n",
    "    dictionary_descending_order = dict(sorted(dictionary_alphabetical_order.items(), key = lambda x: x[1], reverse = True))\n",
    "    return dictionary_descending_order"
   ],
   "outputs": [],
   "metadata": {
    "id": "-SkBO-PHRSfW"
   }
  },
  {
   "cell_type": "markdown",
   "source": [
    "#### 1b) Email Validation (5 marks)"
   ],
   "metadata": {
    "id": "whwAbCqY0eM2"
   }
  },
  {
   "cell_type": "markdown",
   "source": [
    "Given a string s, your task is to determine if it is a valid email according to these format guidelines:\n",
    "\n",
    "*   Has username@website.extension format type\n",
    "*   username only contains alphabets, digits, dashes ('-') and underscores ('_')\n",
    "*   website only contains alphabets and digits\n",
    "*   extension only contains alphabets and is shorter than 3 characters\n",
    "*   Entire email is in lowercase\n",
    "\n",
    "Return True if the email is valid, and False otherwise. \n",
    "\n",
    "<u>Examples</u> <br>\n",
    "Input: 'john_tan@hotmail.com' <br>\n",
    "Output: True\n",
    "\n",
    "Input: 'joyce@youtu_be.many' <br>\n",
    "Output: False"
   ],
   "metadata": {
    "id": "VcSHqjSoycKh"
   },
   "attachments": {}
  },
  {
   "cell_type": "code",
   "execution_count": 3,
   "source": [
    "def qn_1b(s):\n",
    "    if s.count('@') == 1 and s.count('.') == 1:\n",
    "        if s.find('@') < s.find('.'):\n",
    "            if len(s[s.find('@') + 1: s.find('.')]) > 0 and s[s.find('@') + 1: s.find('.')].isalnum() == True and s[s.find('@') + 1: s.find('.')].islower() == True:\n",
    "                if 0 < len(s[s.find('.') + 1 : len(s)]) <= 3 and s[s.find('.') + 1: len(s)].isalpha() == True and s[s.find('.') + 1: len(s)].islower() == True:\n",
    "                    if len(s[0 : s.find('@')]) > 0:\n",
    "                        for i in s[0 : s.find('@')]:\n",
    "                            if ord(i) == 45 or 48 <= ord(i) <= 57 or ord(i) == 95 or 97 <= ord(i) <= 122:\n",
    "                                continue\n",
    "                            else:\n",
    "                                return False\n",
    "                        return True\n",
    "                    else:\n",
    "                        return False\n",
    "                else:\n",
    "                    return False\n",
    "            else:\n",
    "                return False\n",
    "        else:\n",
    "            return False\n",
    "    else:\n",
    "        return False"
   ],
   "outputs": [],
   "metadata": {}
  },
  {
   "cell_type": "markdown",
   "source": [
    "# Question 2: Data Wrangling (13 marks)"
   ],
   "metadata": {
    "id": "BbwuUhCFRUaQ"
   }
  },
  {
   "cell_type": "code",
   "execution_count": 4,
   "source": [
    "olympics = pd.read_csv(\"olympics.csv\", encoding='latin-1')"
   ],
   "outputs": [],
   "metadata": {
    "id": "s4l3_4A6RZA5"
   }
  },
  {
   "cell_type": "code",
   "execution_count": 5,
   "source": [
    "olympics.head()"
   ],
   "outputs": [
    {
     "output_type": "execute_result",
     "data": {
      "text/html": [
       "<div>\n",
       "<style scoped>\n",
       "    .dataframe tbody tr th:only-of-type {\n",
       "        vertical-align: middle;\n",
       "    }\n",
       "\n",
       "    .dataframe tbody tr th {\n",
       "        vertical-align: top;\n",
       "    }\n",
       "\n",
       "    .dataframe thead th {\n",
       "        text-align: right;\n",
       "    }\n",
       "</style>\n",
       "<table border=\"1\" class=\"dataframe\">\n",
       "  <thead>\n",
       "    <tr style=\"text-align: right;\">\n",
       "      <th></th>\n",
       "      <th>City</th>\n",
       "      <th>Year</th>\n",
       "      <th>Sport</th>\n",
       "      <th>Discipline</th>\n",
       "      <th>Event</th>\n",
       "      <th>Athlete</th>\n",
       "      <th>Gender</th>\n",
       "      <th>Country_Code</th>\n",
       "      <th>Country</th>\n",
       "      <th>Event_gender</th>\n",
       "      <th>Medal</th>\n",
       "    </tr>\n",
       "  </thead>\n",
       "  <tbody>\n",
       "    <tr>\n",
       "      <th>0</th>\n",
       "      <td>Montreal</td>\n",
       "      <td>1976.0</td>\n",
       "      <td>Aquatics</td>\n",
       "      <td>Diving</td>\n",
       "      <td>3m springboard</td>\n",
       "      <td>KÖHLER, Christa</td>\n",
       "      <td>Women</td>\n",
       "      <td>GDR</td>\n",
       "      <td>East Germany</td>\n",
       "      <td>W</td>\n",
       "      <td>Silver</td>\n",
       "    </tr>\n",
       "    <tr>\n",
       "      <th>1</th>\n",
       "      <td>Montreal</td>\n",
       "      <td>1976.0</td>\n",
       "      <td>Aquatics</td>\n",
       "      <td>Diving</td>\n",
       "      <td>3m springboard</td>\n",
       "      <td>KOSENKOV, Aleksandr</td>\n",
       "      <td>Men</td>\n",
       "      <td>URS</td>\n",
       "      <td>Soviet Union</td>\n",
       "      <td>M</td>\n",
       "      <td>Bronze</td>\n",
       "    </tr>\n",
       "    <tr>\n",
       "      <th>2</th>\n",
       "      <td>Montreal</td>\n",
       "      <td>1976.0</td>\n",
       "      <td>Aquatics</td>\n",
       "      <td>Diving</td>\n",
       "      <td>3m springboard</td>\n",
       "      <td>BOGGS, Philip George</td>\n",
       "      <td>Men</td>\n",
       "      <td>USA</td>\n",
       "      <td>United States</td>\n",
       "      <td>M</td>\n",
       "      <td>Gold</td>\n",
       "    </tr>\n",
       "    <tr>\n",
       "      <th>3</th>\n",
       "      <td>Montreal</td>\n",
       "      <td>1976.0</td>\n",
       "      <td>Aquatics</td>\n",
       "      <td>Diving</td>\n",
       "      <td>3m springboard</td>\n",
       "      <td>CAGNOTTO, Giorgio Franco</td>\n",
       "      <td>Men</td>\n",
       "      <td>ITA</td>\n",
       "      <td>Italy</td>\n",
       "      <td>M</td>\n",
       "      <td>Silver</td>\n",
       "    </tr>\n",
       "    <tr>\n",
       "      <th>4</th>\n",
       "      <td>Montreal</td>\n",
       "      <td>1976.0</td>\n",
       "      <td>Aquatics</td>\n",
       "      <td>Diving</td>\n",
       "      <td>10m platform</td>\n",
       "      <td>WILSON, Deborah Keplar</td>\n",
       "      <td>Women</td>\n",
       "      <td>USA</td>\n",
       "      <td>United States</td>\n",
       "      <td>W</td>\n",
       "      <td>Bronze</td>\n",
       "    </tr>\n",
       "  </tbody>\n",
       "</table>\n",
       "</div>"
      ],
      "text/plain": [
       "       City    Year     Sport Discipline           Event  \\\n",
       "0  Montreal  1976.0  Aquatics     Diving  3m springboard   \n",
       "1  Montreal  1976.0  Aquatics     Diving  3m springboard   \n",
       "2  Montreal  1976.0  Aquatics     Diving  3m springboard   \n",
       "3  Montreal  1976.0  Aquatics     Diving  3m springboard   \n",
       "4  Montreal  1976.0  Aquatics     Diving    10m platform   \n",
       "\n",
       "                    Athlete Gender Country_Code        Country Event_gender  \\\n",
       "0           KÖHLER, Christa  Women          GDR   East Germany            W   \n",
       "1       KOSENKOV, Aleksandr    Men          URS   Soviet Union            M   \n",
       "2      BOGGS, Philip George    Men          USA  United States            M   \n",
       "3  CAGNOTTO, Giorgio Franco    Men          ITA          Italy            M   \n",
       "4    WILSON, Deborah Keplar  Women          USA  United States            W   \n",
       "\n",
       "    Medal  \n",
       "0  Silver  \n",
       "1  Bronze  \n",
       "2    Gold  \n",
       "3  Silver  \n",
       "4  Bronze  "
      ]
     },
     "metadata": {},
     "execution_count": 5
    }
   ],
   "metadata": {
    "colab": {
     "base_uri": "https://localhost:8080/",
     "height": 206
    },
    "id": "nYZbf66BXfUv",
    "outputId": "d0785690-59a5-4eaf-e992-15ec4f98ba6e"
   }
  },
  {
   "cell_type": "markdown",
   "source": [
    "#### 2a) Drop rows with missing values (1 mark)"
   ],
   "metadata": {
    "id": "cM1bUaT1YRIv"
   }
  },
  {
   "cell_type": "code",
   "execution_count": 6,
   "source": [
    "new_olympics = olympics.dropna()"
   ],
   "outputs": [],
   "metadata": {}
  },
  {
   "cell_type": "markdown",
   "source": [
    "#### 2b) Find the top 10 countries which won the most medals in total from 1980 - 2000 (2 marks)"
   ],
   "metadata": {
    "id": "MKIBJZ1nYz99"
   }
  },
  {
   "cell_type": "code",
   "execution_count": 7,
   "source": [
    "new_df_1 = new_olympics[new_olympics['Year'] >= 1980]\n",
    "new_df_2 = new_df_1[new_df_1['Year'] <= 2000]\n",
    "medal_by_country_1998_2000 = new_df_2['Country'].value_counts()\n",
    "medal_by_country_1998_2000.head(10)"
   ],
   "outputs": [
    {
     "output_type": "execute_result",
     "data": {
      "text/plain": [
       "United States    1258\n",
       "Soviet Union      736\n",
       "Australia         468\n",
       "Germany           441\n",
       "East Germany      434\n",
       "China             401\n",
       "Romania           366\n",
       "Italy             311\n",
       "Korea, South      307\n",
       "Russia            303\n",
       "Name: Country, dtype: int64"
      ]
     },
     "metadata": {},
     "execution_count": 7
    }
   ],
   "metadata": {}
  },
  {
   "cell_type": "markdown",
   "source": [
    "#### 2c) Certain sports contain more than one discipline. E.g the \"Aquatics\" sport contains the \"Diving\", \"Swimming\", \"Water polo\" and \"Synchronized S.\" disciplines. For such sports with more than one discipline, find the top 5 athletes with the most number of medals. Which countries are they from? (5 marks)"
   ],
   "metadata": {
    "id": "GdZrd7fSaTcg"
   }
  },
  {
   "cell_type": "code",
   "execution_count": 8,
   "source": [
    "sport_discipline = new_olympics.groupby(['Sport', 'Discipline'])\n",
    "sport_discipline.first() # Sports with more than one disciplines are Aquatics, Canoe / Kayak, Cycling, Equestrian, Gymnastics, Volleyball, and Wrestling\n",
    "sport_more_than_one_discipline = new_olympics[new_olympics['Sport'].isin(['Aquatics', 'Canoe / Kayak', 'Cycling', 'Equestrian', 'Gymnastics', 'Volleyball', 'Wrestling'])]\n",
    "medal_by_athlete = sport_more_than_one_discipline[['Athlete', 'Country']].groupby(['Athlete', 'Country'])['Athlete'].count().nlargest(5)\n",
    "medal_by_athlete"
   ],
   "outputs": [
    {
     "output_type": "execute_result",
     "data": {
      "text/plain": [
       "Athlete             Country      \n",
       "PHELPS, Michael     United States    16\n",
       "ANDRIANOV, Nikolay  Soviet Union     12\n",
       "NEMOV, Alexei       Russia           12\n",
       "THOMPSON, Jenny     United States    12\n",
       "TORRES, Dara        United States    12\n",
       "Name: Athlete, dtype: int64"
      ]
     },
     "metadata": {},
     "execution_count": 8
    }
   ],
   "metadata": {}
  },
  {
   "cell_type": "markdown",
   "source": [
    "#### 2d) Certain events were discontinued throughout the years. E.g the \"+ 100kg (super heavyweight) event appeared in 1984 but did not appear in 2008. Find all events which were discontinued. (5 marks)\n",
    "\n",
    "Note: Events are considered to be discontinued if they weren't in the 2008 Olympics. "
   ],
   "metadata": {
    "id": "yNLZn6d8cxH1"
   }
  },
  {
   "cell_type": "code",
   "execution_count": 9,
   "source": [
    "all_events = new_olympics['Event'].unique()\n",
    "new_olympics_2008 = new_olympics[new_olympics['Year'] == 2008]\n",
    "all_events_2008 = new_olympics_2008['Event'].unique()\n",
    "discontinued_events = set(all_events) - set(all_events_2008)\n",
    "discontinued_events\n"
   ],
   "outputs": [
    {
     "output_type": "execute_result",
     "data": {
      "text/plain": [
       "{'+ 100kg (super heavyweight)',\n",
       " '+ 108kg, total (super heavyweight)',\n",
       " '+ 110kg, total (super heavyweight)',\n",
       " '+ 72kg (heavyweight)',\n",
       " '+ 81kg (heavyweight)',\n",
       " '+ 93kg (heavyweight)',\n",
       " '+ 95kg (heavyweight)',\n",
       " '- 48kg (extra-lightweight)',\n",
       " '- 48kg (light-flyweight)',\n",
       " '- 52kg, total (flyweight)',\n",
       " '- 54kg, total (flyweight)',\n",
       " '- 63kg (lightweight)',\n",
       " '100 - 110kg, total (heavyweight)',\n",
       " '100 - 130kg (super heavyweight)',\n",
       " '10000m walk',\n",
       " '10m running target (30+30 shots)',\n",
       " '1km time trial',\n",
       " '3000m',\n",
       " '48 - 52kg (flyweight)',\n",
       " '48 - 54kg',\n",
       " '500m time trial',\n",
       " '50m running target (30+30 shots)',\n",
       " '52 - 56kg (lightweight)',\n",
       " '52 - 57kg (bantamweight)',\n",
       " '54 - 58kg',\n",
       " '54 - 59kg, total (bantamweight)',\n",
       " '56 - 60kg, total (featherweight)',\n",
       " '56 - 61kg (half-middleweight)',\n",
       " '56kg',\n",
       " '57 - 62kg (featherweight)',\n",
       " '58 - 63kg',\n",
       " '59 - 64kg, total (featherweight)',\n",
       " '60 - 63.5kg (light-welterweight)',\n",
       " '60 - 65kg (half-lightweight)',\n",
       " '60 - 67.5kg, total (lightweight)',\n",
       " '61 - 66kg (middleweight)',\n",
       " '62 - 68kg (lightweight)',\n",
       " '63 - 69kg',\n",
       " '63 - 70kg (half-middleweight)',\n",
       " '63.5 - 67kg (welterweight)',\n",
       " '64 - 70kg, total (lightweight)',\n",
       " '65 - 71kg (lightweight)',\n",
       " '66 - 72kg (half-heavyweight)',\n",
       " '67 - 71kg (light-middleweight)',\n",
       " '67.5 - 75kg, total (middleweight)',\n",
       " '68 - 74kg (welterweight)',\n",
       " '69 - 76kg',\n",
       " '70 - 76kg, total (middleweight)',\n",
       " '70 - 80kg (middleweight)',\n",
       " '71 - 78kg (half-middleweight)',\n",
       " '71-75kg',\n",
       " '74 - 82kg (middleweight)',\n",
       " '75 - 82.5kg, total (light-heavyweight)',\n",
       " '76 - 83kg, total (light-heavyweight)',\n",
       " '76 - 85kg',\n",
       " '78 - 86kg (middleweight)',\n",
       " '80 - 93kg (half-heavyweight)',\n",
       " '82 - 90kg (light-heavyweight)',\n",
       " '82.5 - 90kg, total (middle-heavyweight)',\n",
       " '83 - 91kg, total (middle-heavyweight)',\n",
       " '85 - 97kg',\n",
       " '86 - 95kg (half-heavyweight)',\n",
       " '90 - 100kg (heavyweight)',\n",
       " '90 - 100kg, total (first-heavyweight)',\n",
       " '91 - 110kg, total (heavyweight)',\n",
       " '91 - 99kg, total (first-heavyweight)',\n",
       " '97 - 130kg',\n",
       " '99 - 108kg, total (heavyweight)',\n",
       " 'Olympic Sprint',\n",
       " 'Team competition',\n",
       " 'board (Mistral)',\n",
       " 'board (division II)',\n",
       " 'board (lechner)',\n",
       " 'board (windglider)',\n",
       " 'coxless four (4-)',\n",
       " 'double trap (120 targets)',\n",
       " 'fleet/match race keelboat open (Soling)',\n",
       " 'flying dutchman',\n",
       " 'four-oared shell with coxswain (4-)',\n",
       " 'individual FITA round',\n",
       " 'open category',\n",
       " 'pair-oared shell with coxswain (2+)',\n",
       " 'pentathlon',\n",
       " 'quadruple sculls with coxswain (4x)',\n",
       " 'single-handed dinghy (Europe)',\n",
       " 'single-handed dinghy (Finn)',\n",
       " 'single-handed dinghy open (Laser)',\n",
       " 'solo',\n",
       " 'team time trial',\n",
       " 'teams FITA round',\n",
       " 'tempest',\n",
       " 'two-person keelboat open (Star)'}"
      ]
     },
     "metadata": {},
     "execution_count": 9
    }
   ],
   "metadata": {}
  },
  {
   "cell_type": "markdown",
   "source": [
    "# Question 3: Data Visualisation (10 marks)\n",
    "#### Using the dataset, come up with 2 visualisations + one key insight from each visualisation (5 marks for each visualisation + insight)"
   ],
   "metadata": {
    "id": "S70AlQWARoHB"
   }
  },
  {
   "cell_type": "code",
   "execution_count": 10,
   "source": [
    "import numpy as np\n",
    "import matplotlib.pyplot as plt\n",
    "import seaborn as sns\n",
    "\n",
    "# Data Visualization 1: USA's Top 10 Sports with Greatest Medal Count Improvement Between the 2004 and 2008 Summer Olympics\n",
    "\n",
    "new_olympics_2004 = new_olympics[new_olympics['Year'] == 2004]\n",
    "all_events_2004 = new_olympics_2004['Event'].unique()\n",
    "new_olympics_2008 = new_olympics[new_olympics['Year'] == 2008]\n",
    "all_events_2008 = new_olympics_2008['Event'].unique()\n",
    "continued_events = set(all_events_2004).intersection(set(all_events_2008))\n",
    "relevant_olympics_2004 = new_olympics_2004[new_olympics_2004['Event'].isin(continued_events)]\n",
    "relevant_olympics_2008 = new_olympics_2008[new_olympics_2008['Event'].isin(continued_events)]\n",
    "medal_by_sport_2004 = relevant_olympics_2004[relevant_olympics_2004['Country'] == 'United States'].groupby(['Sport'])['Medal'].count().reset_index(name = 'Count 2004')\n",
    "medal_by_sport_2008 = relevant_olympics_2008[relevant_olympics_2008['Country'] == 'United States'].groupby(['Sport'])['Medal'].count().reset_index(name = 'Count 2008')\n",
    "medal_by_sport = pd.merge(medal_by_sport_2004, medal_by_sport_2008, how = 'outer', on = 'Sport')\n",
    "medal_by_sport = medal_by_sport.fillna(0)\n",
    "medal_by_sport['Medal Count Improvement'] = medal_by_sport['Count 2008'] - medal_by_sport['Count 2004']\n",
    "medal_by_sport_top_10 = medal_by_sport.sort_values('Medal Count Improvement', ascending = False).nlargest(10, 'Medal Count Improvement')\n",
    "\n",
    "# Bar Plot\n",
    "fig, ax = plt.subplots(figsize = (8, 6))\n",
    "sns.barplot(data = medal_by_sport_top_10, x = 'Medal Count Improvement', y = 'Sport', palette = 'crest_r').set_title(\"USA's Top 10 Sports With Greatest Medal Count Improvement Between the 2004 and 2008 Summer Olympics\", fontdict = {'fontsize': 13, 'fontweight': 'bold'})\n",
    "\n",
    "# Key Insight: The visualization shows the top Olympics sports categories that signify the greatest improvement in the 2008 Summer Olympics from the 2004 Summer Olympics by the US\n",
    "# athletes. In particular, baseball, volleyball, fencing, aquatics, and shooting represent sports areas with the greatest success and return on the US's investment in its athletes.\n",
    "# However, it is also crucial to note that some sports categories are team sports. As a result, a win in a team sport event will yield multiple medals to be accounted for in US's\n",
    "# medal tally. It is also worth noting that some athletes were eligible to participate in multiple events within the same sports category, such as Michael Phelps in the various\n",
    "# swimming events, which may lead to an overestimation of the sports category's success as it was hinged on a few prodigious athletes."
   ],
   "outputs": [
    {
     "output_type": "execute_result",
     "data": {
      "text/plain": [
       "Text(0.5, 1.0, \"USA's Top 10 Sports With Greatest Medal Count Improvement Between the 2004 and 2008 Summer Olympics\")"
      ]
     },
     "metadata": {},
     "execution_count": 10
    },
    {
     "output_type": "display_data",
     "data": {
      "image/png": "[encoded data removed]",
      "text/plain": [
       "<Figure size 576x432 with 1 Axes>"
      ]
     },
     "metadata": {
      "needs_background": "light"
     }
    }
   ],
   "metadata": {
    "id": "5rDcMTF5RuZ2"
   }
  },
  {
   "cell_type": "code",
   "execution_count": 11,
   "source": [
    "# Data Visualization 2: Number of Medals Won by the Top 5 Countries Over the Years\n",
    "\n",
    "olympics_1996_onward = new_olympics[new_olympics['Year'] >= 1996]\n",
    "medal_by_country_top_5 = olympics_1996_onward['Country'].value_counts().nlargest(5)\n",
    "medal_by_country_top_5 # The top 5 countries by medal count from 1996 onward are United States, Russia, Australia, Germany, and China\n",
    "medal_by_country_usa = olympics_1996_onward[olympics_1996_onward['Country'] == 'United States'].groupby(['Year'])['Medal'].count().reset_index(name = 'USA')\n",
    "medal_by_country_rus = olympics_1996_onward[olympics_1996_onward['Country'] == 'Russia'].groupby(['Year'])['Medal'].count().reset_index(name = 'RUS')\n",
    "medal_by_country_aus = olympics_1996_onward[olympics_1996_onward['Country'] == 'Australia'].groupby(['Year'])['Medal'].count().reset_index(name = 'AUS')\n",
    "medal_by_country_ger = olympics_1996_onward[olympics_1996_onward['Country'] == 'Germany'].groupby(['Year'])['Medal'].count().reset_index(name = 'GER')\n",
    "medal_by_country_chn = olympics_1996_onward[olympics_1996_onward['Country'] == 'China'].groupby(['Year'])['Medal'].count().reset_index(name = 'CHN')\n",
    "data = pd.concat([medal_by_country_usa, medal_by_country_rus['RUS'], medal_by_country_aus['AUS'], medal_by_country_ger['GER'], medal_by_country_chn['CHN']], axis = 1)\n",
    "\n",
    "# Line Plot\n",
    "fig, ax = plt.subplots(figsize = (8, 6))\n",
    "plt.plot(data['Year'], data['USA'], label = 'United States', color = '#9B479F')\n",
    "plt.plot(data['Year'], data['RUS'], label = 'Russia', color = '#E04A3F')\n",
    "plt.plot(data['Year'], data['AUS'], label = 'Australia', color = '#FFD34E')\n",
    "plt.plot(data['Year'], data['GER'], label = 'Germany', color = '#0DAB62')\n",
    "plt.plot(data['Year'], data['CHN'], label = 'China', color = '#448AFD')\n",
    "plt.legend(bbox_to_anchor=(1.01, 1.015), loc='upper left')\n",
    "plt.title('Number of Medals Won by the Top 5 Countries Over the Years', fontdict = {'fontsize': 12, 'fontweight': 'bold'})\n",
    "plt.xlabel('Year')\n",
    "plt.ylabel('Number of Medals')\n",
    "ax.xaxis.set_ticks(np.arange(1996, 2012, 4))\n",
    "plt.show()\n",
    "\n",
    "# Key Insight: The line plot depicts the trend of the number of medals won by the top 5 performing countries in the four most recent Summer Olympics contained in the data set.\n",
    "# Only recent events from 1996 onward were included as Germany (previously East Germany and West Germany) was an official contender starting from 1992 and Russia (previously\n",
    "# the Soviet Union) first competed in the Olympics in 1996. Among the top 5 countries, it can be observed that the US continued to not only defend its lead in the competition\n",
    "# but also propelled ahead further with more medals won over the years. The US's Olympics success culminates in 315 medal wins in the 2008 Summer Olympics! In addition, in the\n",
    "# 2008 Summer Olympics held in Beijing, China nearly doubled its number of medal wins from the previous Olympics. It may be interesting to investigate further whether being a\n",
    "# host country during the Olympics played a part in boosting that country's competitive performance."
   ],
   "outputs": [
    {
     "output_type": "display_data",
     "data": {
      "image/png": "[encoded data removed]",
      "text/plain": [
       "<Figure size 576x432 with 1 Axes>"
      ]
     },
     "metadata": {
      "needs_background": "light"
     }
    }
   ],
   "metadata": {}
  }
 ],
 "metadata": {
  "kernelspec": {
   "name": "python3",
   "display_name": "Python 3.7.11 64-bit ('ee2211': conda)"
  },
  "language_info": {
   "codemirror_mode": {
    "name": "ipython",
    "version": 3
   },
   "file_extension": ".py",
   "mimetype": "text/x-python",
   "name": "python",
   "nbconvert_exporter": "python",
   "pygments_lexer": "ipython3",
   "version": "3.7.11"
  },
  "interpreter": {
   "hash": "9abaa35a2e3341a2d62d50ed39b1e17e6a0edb78a38a2623e8538200adf79efb"
  }
 },
 "nbformat": 4,
 "nbformat_minor": 5
}